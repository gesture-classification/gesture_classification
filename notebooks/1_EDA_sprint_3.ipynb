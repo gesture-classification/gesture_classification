{
 "cells": [
  {
   "cell_type": "markdown",
   "metadata": {},
   "source": [
    "<center><font size=\"6\">Хакатон от Моторики</font>\n",
    "\n",
    "[Третий этап](https://www.kaggle.com/competitions/motorica-advanced-gesture-classification)\n",
    "\n",
    "Команда 1"
   ]
  },
  {
   "cell_type": "markdown",
   "metadata": {},
   "source": [
    "**Задача:**  Построить классификационную модель, которая по показаниям оптомиографических датчиков будет определять жест оператора протеза кисти во время записи данных, что отражено в значении целевой переменной. \n",
    "\n",
    "Имеется три оператора, выполнявшие некоторую последовательность жестов. В результате наблюдений получены показания датчиков в виде непрерывного временного ряда. \n",
    "\n",
    "Список файлов, в котором символ * обозначает индекс оператора:\n",
    "* X\\_train\\_*.npy - обучающая выборка, имеющая размерности \"наблюдения, датчики, время\";\n",
    "* X\\_test\\_ dataset\\_*.pkl - тестовая выборка, имеющая размерности \"наблюдения, датчики, время\";\n",
    "* sample_submission.csv - некоторое решение задачи, из которого можно взять формат загрузки данных на Kaggle;\n",
    "* y\\_train\\_*.npy - целевая переменная для обучающей выборки, которая содержит следующие классы:\n",
    "\n",
    "| Номер <br> класса | Описание жеста |\n",
    "| :---: | :--- |\n",
    "| \"-1\"  |  потенциально \"битые\" данные |\n",
    "| \"0\"  |  жест \"open\" - разгиб всех пальцев |\n",
    "| \"1\"  |  жест \"пистолет\" |\n",
    "| \"2\"  |  сгиб большого пальца |\n",
    "| \"3\"  |  жест \"ok\" |\n",
    "| \"4\"  |  жест \"grab\" |\n",
    "\n",
    "* functions.py - библиотека функций, применяемых в данном ноутбуке."
   ]
  },
  {
   "cell_type": "markdown",
   "metadata": {},
   "source": [
    "# Import библиотек и описание функций"
   ]
  },
  {
   "cell_type": "code",
   "execution_count": 1,
   "metadata": {
    "id": "p3tvY4ssJ6D0"
   },
   "outputs": [],
   "source": [
    "# импортируем библиотеки\n",
    "import pandas as pd\n",
    "import numpy as np\n",
    "import copy\n",
    "import pickle\n",
    "\n",
    "from zipfile import ZipFile\n",
    "\n",
    "# графические библиотеки\n",
    "import matplotlib.pyplot as plt\n",
    "import seaborn as sns\n",
    "import plotly.express as px\n",
    "import plotly.graph_objects as go\n",
    "from plotly.subplots import make_subplots\n",
    "\n",
    "# отображать по умолчанию длину датафрейма\n",
    "pd.set_option(\"display.max_rows\", 9, \"display.max_columns\", 9)\n",
    "\n",
    "# библиотека нормализации данных\n",
    "from sklearn.preprocessing import StandardScaler\n",
    "\n",
    "# библиотека взаимодействия с интерпретатором\n",
    "import sys\n",
    "if not sys.warnoptions:\n",
    "    import warnings\n",
    "    warnings.simplefilter(\"ignore\")\n",
    "import os\n",
    "\n",
    "# отображение элементов массива не в экспоненциальном формате\n",
    "np.set_printoptions(suppress=True)"
   ]
  },
  {
   "cell_type": "code",
   "execution_count": 3,
   "id": "dbd10c5c",
   "metadata": {},
   "outputs": [],
   "source": [
    "# Библиотека вызова функций, специально разработанных для данного ноутбука\n",
    "sys.path.insert(0, '/gesture_classification/utils/')\n",
    "import functions as f \n",
    "\n",
    "sys.path.insert(1, '/gesture_classification/logs_and_figures/')"
   ]
  },
  {
   "cell_type": "code",
   "execution_count": 7,
   "metadata": {},
   "outputs": [],
   "source": [
    "# константы и глобальные параметры данных\n",
    "PATH = '/gesture_classification/data/'\n",
    "GEST = 5          # количество основных жестов (кроме 'битых' данных)\n",
    "Pilots = 3      # количество пилотов (независимых рядов данных)\n",
    "SENS = 50         # количество датчиков\n",
    "\n",
    "X_train = ['' for p in range(Pilots)]  # список объектов X_train\n",
    "y_train = ['' for p in range(Pilots)]  # список объектов y_train\n",
    "X_test = ['' for p in range(Pilots)]   # список объектов X_test\n",
    "\n",
    "t_train = ['' for p in range(Pilots)]   # список длин X_train и y_train (кол-во временных тиков)\n",
    "t_test = [0 for p in range(Pilots)]     # список с общим количеством временных тиков в X_test\n",
    "s_test = ['' for p in range(Pilots)]    # список с количеством событий в X_test\n",
    "tt_test = [[] for p in range(Pilots)]   # список списков с длинами событий в X_test\n",
    "\n",
    "# Создадим папку figures для сохранения рисунков\n",
    "# if not os.path.exists(\"figures\"):\n",
    "#     os.mkdir(\"figures\")"
   ]
  },
  {
   "cell_type": "markdown",
   "metadata": {},
   "source": [
    "# Загрузка данных"
   ]
  },
  {
   "cell_type": "code",
   "execution_count": 8,
   "id": "57ecd646-f2a3-4e7d-b1f9-6f70e6452515",
   "metadata": {
    "id": "57ecd646-f2a3-4e7d-b1f9-6f70e6452515"
   },
   "outputs": [],
   "source": [
    "# Словарь для последующей агрегации данных. Изначально прописаны названия файлов в архиве\n",
    "mounts = {\n",
    "    1 : {\n",
    "        'path_X_train' : 'X_train_1.npy',\n",
    "        'path_y_train' : 'y_train_1.npy',\n",
    "        'path_X_test_dataset' : 'X_test_dataset_1.pkl',\n",
    "    },\n",
    "    2 : {\n",
    "        'path_X_train' : 'X_train_2.npy',\n",
    "        'path_y_train' : 'y_train_2.npy',\n",
    "        'path_X_test_dataset' : 'X_test_dataset_2.pkl',\n",
    "    },\n",
    "    3 : {\n",
    "        'path_X_train' : 'X_train_3.npy',\n",
    "        'path_y_train' : 'y_train_3.npy',\n",
    "        'path_X_test_dataset' : 'X_test_dataset_3.pkl',\n",
    "    }\n",
    "}"
   ]
  },
  {
   "cell_type": "code",
   "execution_count": 9,
   "id": "f458b898",
   "metadata": {
    "colab": {
     "base_uri": "https://localhost:8080/"
    },
    "id": "f458b898",
    "outputId": "ec93976a-02be-4061-fa57-04f2ddd5e515"
   },
   "outputs": [
    {
     "ename": "FileNotFoundError",
     "evalue": "[Errno 2] No such file or directory: '/gesture_classification/data/motorica-advanced-gesture-classification.zip'",
     "output_type": "error",
     "traceback": [
      "\u001b[1;31m---------------------------------------------------------------------------\u001b[0m",
      "\u001b[1;31mFileNotFoundError\u001b[0m                         Traceback (most recent call last)",
      "Cell \u001b[1;32mIn [9], line 5\u001b[0m\n\u001b[0;32m      2\u001b[0m path_to_zip \u001b[39m=\u001b[39m os\u001b[39m.\u001b[39mpath\u001b[39m.\u001b[39mjoin(PATH, \u001b[39m'\u001b[39m\u001b[39mmotorica-advanced-gesture-classification.zip\u001b[39m\u001b[39m'\u001b[39m)\n\u001b[0;32m      4\u001b[0m \u001b[39mfor\u001b[39;00m mount_name, mount \u001b[39min\u001b[39;00m mounts\u001b[39m.\u001b[39mitems():\n\u001b[1;32m----> 5\u001b[0m     mount[\u001b[39m'\u001b[39m\u001b[39mX_train\u001b[39m\u001b[39m'\u001b[39m] \u001b[39m=\u001b[39m np\u001b[39m.\u001b[39;49mload(path_to_zip)[mount[\u001b[39m'\u001b[39m\u001b[39mpath_X_train\u001b[39m\u001b[39m'\u001b[39m]]\n\u001b[0;32m      6\u001b[0m     mount[\u001b[39m'\u001b[39m\u001b[39my_train\u001b[39m\u001b[39m'\u001b[39m] \u001b[39m=\u001b[39m np\u001b[39m.\u001b[39mload(path_to_zip)[mount[\u001b[39m'\u001b[39m\u001b[39mpath_y_train\u001b[39m\u001b[39m'\u001b[39m]]\n\u001b[0;32m      8\u001b[0m     \u001b[39mwith\u001b[39;00m ZipFile(path_to_zip) \u001b[39mas\u001b[39;00m myzip:\n",
      "File \u001b[1;32m~\\AppData\\Roaming\\Python\\Python310\\site-packages\\numpy\\lib\\npyio.py:405\u001b[0m, in \u001b[0;36mload\u001b[1;34m(file, mmap_mode, allow_pickle, fix_imports, encoding, max_header_size)\u001b[0m\n\u001b[0;32m    403\u001b[0m     own_fid \u001b[39m=\u001b[39m \u001b[39mFalse\u001b[39;00m\n\u001b[0;32m    404\u001b[0m \u001b[39melse\u001b[39;00m:\n\u001b[1;32m--> 405\u001b[0m     fid \u001b[39m=\u001b[39m stack\u001b[39m.\u001b[39menter_context(\u001b[39mopen\u001b[39;49m(os_fspath(file), \u001b[39m\"\u001b[39;49m\u001b[39mrb\u001b[39;49m\u001b[39m\"\u001b[39;49m))\n\u001b[0;32m    406\u001b[0m     own_fid \u001b[39m=\u001b[39m \u001b[39mTrue\u001b[39;00m\n\u001b[0;32m    408\u001b[0m \u001b[39m# Code to distinguish from NumPy binary files and pickles.\u001b[39;00m\n",
      "\u001b[1;31mFileNotFoundError\u001b[0m: [Errno 2] No such file or directory: '/gesture_classification/data/motorica-advanced-gesture-classification.zip'"
     ]
    }
   ],
   "source": [
    "# Чтение данных из архива (без распаковки архива)\n",
    "path_to_zip = os.path.join(PATH, 'motorica-advanced-gesture-classification.zip')\n",
    "\n",
    "for mount_name, mount in mounts.items():\n",
    "    mount['X_train'] = np.load(path_to_zip)[mount['path_X_train']]\n",
    "    mount['y_train'] = np.load(path_to_zip)[mount['path_y_train']]\n",
    "    \n",
    "    with ZipFile(path_to_zip) as myzip:\n",
    "        with myzip.open(mount['path_X_test_dataset']) as myfile:\n",
    "            mount['X_test_dataset'] = pickle.load(myfile)\n",
    "    print(len(mount['X_test_dataset']))"
   ]
  },
  {
   "cell_type": "code",
   "execution_count": 5,
   "metadata": {},
   "outputs": [
    {
     "name": "stdout",
     "output_type": "stream",
     "text": [
      "длина обучающей выборки пилота №1 = 24030\n",
      "длина обучающей выборки пилота №2 = 23202\n",
      "длина обучающей выборки пилота №3 = 23177\n"
     ]
    }
   ],
   "source": [
    "# загрузка обучающей выборки и меток классов, тестовой выборки\n",
    "X_test_raw = ['' for p in range(Pilots)]\n",
    "for p in range(Pilots):\n",
    "    X_train[p] = mounts[p+1]['X_train']\n",
    "    t_train[p] = mounts[p+1]['X_train'].shape[0]\n",
    "    \n",
    "    y_train[p] = mounts[p+1]['y_train']\n",
    "    \n",
    "    if y_train[p].size == t_train[p]:\n",
    "        print(f'длина обучающей выборки пилота №{p+1} = {t_train[p]}')\n",
    "    else:\n",
    "        print(f'длина обучающей выборки и меток классов пилота №{p+1} не совпадают!')\n",
    "    \n",
    "    #with open(os.path.join(PATH, 'X_test_dataset_' + f'{p+1}' + '.pkl'), 'rb') as file:\n",
    "    X_test_raw[p] = mount['X_test_dataset'][p]"
   ]
  },
  {
   "cell_type": "code",
   "execution_count": 6,
   "metadata": {},
   "outputs": [
    {
     "name": "stdout",
     "output_type": "stream",
     "text": [
      "Тип данных X_train: <class 'numpy.ndarray'>\n",
      "Размерность файла X_train_1: (24030, 50) - время, датчики\n",
      "X_train первого пилота: \n",
      " [[2711   16 1803 ...    8   14    7]\n",
      " [2712   10 1802 ...    6   12    6]\n",
      " [2711   13 1803 ...    5   16    8]\n",
      " ...\n",
      " [2707   16 1851 ...    6   13    6]\n",
      " [2707   18 1850 ...    8   12    6]\n",
      " [2710   16 1851 ...    9   11    8]]\n"
     ]
    }
   ],
   "source": [
    "# смотрим на исходные данные X_train\n",
    "print(f\"Тип данных X_train: {type(mounts[1]['X_train'])}\")\n",
    "print(f\"Размерность файла X_train_1: {mounts[1]['X_train'].shape} - время, датчики\")\n",
    "print(f\"X_train первого пилота: \\n {mounts[1]['X_train']}\")"
   ]
  },
  {
   "cell_type": "code",
   "execution_count": 7,
   "metadata": {},
   "outputs": [
    {
     "name": "stdout",
     "output_type": "stream",
     "text": [
      "Тип данных y_train: <class 'numpy.ndarray'>\n",
      "Размерность файла y_train_1: (24030,) - время\n",
      "y_train первого пилота: \n",
      " [0 0 0 ... 3 3 3]\n"
     ]
    }
   ],
   "source": [
    "# смотрим на исходные данные y_train\n",
    "print(f\"Тип данных y_train: {type(mounts[1]['y_train'])}\")\n",
    "print(f\"Размерность файла y_train_1: {mounts[1]['y_train'].shape} - время\")\n",
    "print(f\"y_train первого пилота: \\n {mounts[1]['y_train']}\")"
   ]
  },
  {
   "cell_type": "markdown",
   "id": "590a9dc6-53aa-4db8-a1d5-866cdf81bc2e",
   "metadata": {},
   "source": [
    "# Обзор файла `X_test_dataset`"
   ]
  },
  {
   "cell_type": "code",
   "execution_count": 8,
   "metadata": {},
   "outputs": [
    {
     "data": {
      "text/plain": [
       "(50, 256)"
      ]
     },
     "execution_count": 8,
     "metadata": {},
     "output_type": "execute_result"
    }
   ],
   "source": [
    "mount['X_test_dataset'][1].shape"
   ]
  },
  {
   "cell_type": "code",
   "execution_count": 9,
   "metadata": {},
   "outputs": [
    {
     "name": "stdout",
     "output_type": "stream",
     "text": [
      "Тип данных X_test: <class 'list'>\n",
      "Тип данных X_test для пилота 1: <class 'numpy.ndarray'>\n",
      "Размерность файла X_test_1: (50, 256) - время, датчики\n",
      "X_test первого пилота, наблюдение '0': \n",
      " [1370 1372 1369 1363 1361 1356 1354 1354 1353 1350 1352 1356 1359 1359\n",
      " 1359 1358 1358 1360 1359 1359 1358 1356 1355 1355 1354 1355 1356 1359\n",
      " 1363 1361 1362 1366 1365 1367 1366 1371 1386 1395 1395 1368 1342 1317\n",
      " 1291 1272 1254 1235 1213 1194 1176 1163 1145 1131 1121 1111 1108 1106\n",
      " 1108 1115 1119 1118 1117 1115 1112 1113 1113 1113 1111 1110 1110 1109\n",
      " 1110 1108 1106 1111 1110 1111 1110 1113 1110 1109 1110 1111 1113 1112\n",
      " 1112 1112 1112 1114 1114 1114 1116 1115 1118 1117 1113 1115 1116 1146\n",
      " 1197 1236 1271 1291 1300 1303 1309 1317 1327 1332 1340 1349 1355 1361\n",
      " 1367 1371 1371 1379 1387 1400 1408 1413 1415 1416 1421 1427 1429 1428\n",
      " 1426 1425 1425 1420 1418 1415 1411 1408 1408 1406 1405 1407 1404 1405\n",
      " 1404 1405 1401 1402 1402 1403 1402 1402 1403 1402 1401 1398 1398 1395\n",
      " 1396 1397 1396 1395 1392 1391 1384 1376 1373 1370 1364 1356 1346 1334\n",
      " 1327 1315 1303 1296 1297 1296 1292 1293 1291 1291 1293 1296 1298 1295\n",
      " 1297 1294 1295 1290 1293 1291 1287 1289 1287 1287 1287 1288 1288 1288\n",
      " 1289 1291 1290 1289 1293 1293 1296 1296 1297 1299 1296 1297 1297 1297\n",
      " 1296 1296 1299 1299 1299 1297 1300 1300 1300 1310 1340 1365 1392 1424\n",
      " 1440 1446 1441 1434 1437 1436 1435 1433 1437 1439 1440 1446 1450 1448\n",
      " 1447 1443 1440 1435 1429 1419 1410 1406 1407 1406 1404 1403 1403 1404\n",
      " 1404 1406 1409 1417]\n"
     ]
    }
   ],
   "source": [
    "# смотрим на исходные данные X_test\n",
    "print(f\"Тип данных X_test: {type(mount['X_test_dataset'])}\")\n",
    "print(f\"Тип данных X_test для пилота 1: {type(mount['X_test_dataset'][1])}\")\n",
    "print(f\"Размерность файла X_test_1: {mount['X_test_dataset'][1].shape} - время, датчики\")\n",
    "print(f\"X_test первого пилота, наблюдение '0': \\n {mount['X_test_dataset'][1][0]}\")"
   ]
  },
  {
   "cell_type": "code",
   "execution_count": 10,
   "id": "0e9a118d-8959-42c1-9b64-8eb1b50d5de4",
   "metadata": {},
   "outputs": [
    {
     "name": "stdout",
     "output_type": "stream",
     "text": [
      "subject 1\n",
      "\tshape (50, 105) appears 303 times.\n",
      "\tshape (50, 181) appears 299 times.\n",
      "\tshape (50, 256) appears 297 times.\n",
      "subject 2\n",
      "\tshape (50, 105) appears 286 times.\n",
      "\tshape (50, 181) appears 285 times.\n",
      "\tshape (50, 256) appears 284 times.\n",
      "subject 3\n",
      "\tshape (50, 105) appears 291 times.\n",
      "\tshape (50, 181) appears 282 times.\n",
      "\tshape (50, 256) appears 288 times.\n"
     ]
    }
   ],
   "source": [
    "for mount_name, mount in mounts.items():\n",
    "    X_test_dataset = mount['X_test_dataset']\n",
    "    print(f\"subject {mount_name}\")\n",
    "    shapes, counts = np.unique(\n",
    "        [arr.shape for arr in X_test_dataset],\n",
    "        return_counts=True,\n",
    "        axis=0\n",
    "    )\n",
    "    for shape, count in zip(shapes, counts):\n",
    "        print(f\"\\tshape {tuple(shape)} appears {count} times.\")"
   ]
  },
  {
   "cell_type": "code",
   "execution_count": 11,
   "id": "96e83ba5-f27e-4160-82f0-673bec0a3315",
   "metadata": {},
   "outputs": [
    {
     "data": {
      "image/png": "[encoded data removed]",
      "text/plain": [
       "<Figure size 864x360 with 3 Axes>"
      ]
     },
     "metadata": {
      "needs_background": "light"
     },
     "output_type": "display_data"
    }
   ],
   "source": [
    "# Отобразим три различных наблюдения первого пилота\n",
    "#from tkinter import font\n",
    "\n",
    "plot_counter=1\n",
    "\n",
    "for mount_name, mount in mounts.items():\n",
    "    X_test_dataset = mount['X_test_dataset']\n",
    "    \n",
    "    fig, axx = plt.subplots(3, 1, sharex=True, figsize=(12, 5))\n",
    "\n",
    "    test_id = 3  # номер наблюдения \n",
    "    plt.sca(axx[0])\n",
    "    plt.plot(X_test_dataset[test_id].T, lw=0.5)\n",
    "    plt.title(f'Размер наблюдения: {X_test_dataset[test_id][mount_name].T.shape[0]} временных промежутков')\n",
    "    \n",
    "    test_id = 1  # номер наблюдения\n",
    "    plt.sca(axx[1])\n",
    "    plt.plot(X_test_dataset[test_id].T, lw=0.5)\n",
    "    plt.title(f'Размер наблюдения: {X_test_dataset[test_id][mount_name].T.shape[0]} временных промежутков')\n",
    "    \n",
    "    test_id = 8  # номер наблюдения\n",
    "    plt.sca(axx[2])\n",
    "    plt.plot(X_test_dataset[test_id].T, lw=0.5)\n",
    "    plt.title(f'Размер наблюдения: {X_test_dataset[test_id][mount_name].T.shape[0]} временных промежутков')\n",
    "    \n",
    "    plt.suptitle(f\"Рис. {plot_counter} - Сигналы датчиков в наблюдениях  пилота {mount_name}\", y=-0.1, fontsize=16)\n",
    "    plt.tight_layout()\n",
    "    \n",
    "    plt.savefig(f'logs_and_figures/fig_{plot_counter}.png')\n",
    "    plt.show();\n",
    "        \n",
    "    break"
   ]
  },
  {
   "cell_type": "code",
   "execution_count": 12,
   "metadata": {},
   "outputs": [
    {
     "name": "stdout",
     "output_type": "stream",
     "text": [
      "Активные датчики пилота 1:  [0, 2, 5, 8, 12, 15, 17, 19, 21, 24, 27, 29, 30, 33, 36, 38]\n",
      "Пассивные датчики пилота 1:  [1, 3, 4, 6, 7, 9, 10, 11, 13, 14, 16, 18, 20, 22, 23, 25, 26, 28, 31, 32, 34, 35, 37, 39, 40, 41, 42, 43, 44, 45, 46, 47, 48, 49]\n"
     ]
    }
   ],
   "source": [
    "active_sensors, passive_sensor = f.get_sensor_list(Pilot_id=1, mounts=mounts, print_active=True)"
   ]
  },
  {
   "cell_type": "code",
   "execution_count": 13,
   "metadata": {},
   "outputs": [],
   "source": [
    "f.get_all_sensors_plot(Pilot_id=1, timesteps=[0,107], mounts=mounts, plot_counter=2)"
   ]
  },
  {
   "attachments": {},
   "cell_type": "markdown",
   "metadata": {},
   "source": [
    "<center> <img src = \"./logs_and_figures/fig_2.png\"> </center>\n",
    "\n",
    "На рис.2 изображается сигнал датчиков во времени. Относительные амплитуды некоторых датчиков имеют значительный перепад. Отметим, что датчики можно разделить по средней величине сигнала на 2 группы:\n",
    "* активные (0, 2, 5, 8, 12, 15, 17, 19, 21, 24, 27, 29, 30, 33, 36, 38), величина сигнала которых превышает 200;\n",
    "* пассивные (все остальные), средняя величина менее 200.\n",
    "\n",
    "Отобразим обе группы датчиков раздельно."
   ]
  },
  {
   "cell_type": "code",
   "execution_count": null,
   "metadata": {},
   "outputs": [],
   "source": [
    "f.get_active_passive_sensors_plot(Pilot_id=1, timesteps=[0,107], mounts=mounts, plot_counter=3)"
   ]
  },
  {
   "cell_type": "markdown",
   "metadata": {},
   "source": [
    "<center> <img src = \"./figures/fig_3.png\"> </center>\n",
    "\n",
    "На рис.3 изображены диаграммы активных (слева) и пассивных (справа) датчиков. Отметим, что в районе 50 временного промежутка изменение сигнала достаточно чётко просматривается, несмотря на его относительно небольшой перепад."
   ]
  },
  {
   "cell_type": "markdown",
   "metadata": {},
   "source": [
    "# Поиск периода времени, в котором изменился класс жеста"
   ]
  },
  {
   "cell_type": "markdown",
   "metadata": {},
   "source": [
    "Выберем произвольно: пилота №3; проанализируем показания датчиков 0 и 2 во временной период c 100 по 300."
   ]
  },
  {
   "cell_type": "code",
   "execution_count": null,
   "metadata": {},
   "outputs": [],
   "source": [
    "f.get_signal_and_train_plots(Pilot_id=3, timesteps=[100,300], sensors=[0,2], mounts=mounts, plot_counter=4)"
   ]
  },
  {
   "cell_type": "markdown",
   "metadata": {},
   "source": [
    "<center> <img src = \"./figures/fig_4.png\"> </center>\n",
    "\n",
    "На рис.4 изображена диаграмма изменения сигнала датчиков (сверху), на которой наблюдается скачкообразные изменения сигнала датчиков. На диаграмме снизу показано два изменения сигнала манипулятора:   \n",
    "- в районе 175 временного промежутка класс жеста изменяется с 0 до 2;\n",
    "- в районе 255 временного промежутка класс жеста изменяется с 2 до 0;\n",
    "\n",
    "Сравнивая обе диаграммы отметим отсутствие четкого характера изменения сигнала при возвращении к 0 классу жеста, а также запаздывание сигналов датчиков относительно манипулятора из-за задержки реакции оператора.\n",
    "\n",
    "Проверим производную сигнала датчиков и его нормализованное значение."
   ]
  },
  {
   "cell_type": "code",
   "execution_count": null,
   "metadata": {},
   "outputs": [],
   "source": [
    "f.get_signal_derivative_and_normalized_plot(Pilot_id=1, timesteps=[100,450], sensors=[0,2], mounts=mounts, plot_counter=5)"
   ]
  },
  {
   "cell_type": "markdown",
   "metadata": {},
   "source": [
    "<center> <img src = \"./figures/fig_5.png\"> </center>\n",
    "\n",
    "На рис.5 изображена диаграмма производной сигналов датчиков, квадрат производной сигналов и их нормализованные значения. Анализируя диаграммы совместно отметим, что начало жеста невозможно определить по величине сигнала. Кроме того, характерный паттерн изменения сигнала отсутствует."
   ]
  },
  {
   "cell_type": "markdown",
   "metadata": {},
   "source": [
    "# Характерные уровни датчиков\n",
    "\n",
    "Выделим из данных X_train участки, где жест не меняется. Для этого при разделении на эпохи зададим следующие параметры:\n",
    "\n",
    "    epochs = mne.Epochs(\n",
    "        ...,\n",
    "        tmin=-1 * 1.5,\n",
    "        tmax=1 * 0,\n",
    "        ...\n",
    "    )\n",
    "\n",
    "Таким образом, получим сэмплы длиной 46 временных тиков, которые заканчиваются в момент времени, когда подается команда манипулятором.\n",
    "Поскольку наблюдения были построены таким образом, что команда манипулятора подавалась с периодичностью 77 временных тиков, мы \n",
    "можем считать, что с 31 по 77 временной тик (так мы выделили сэмплы) переход к новому жесту уже практически завершился \n",
    "или находится в завершающей фазе и данные y_train соответствуют фактическому состоянию кисти пилота.\n",
    "\n",
    "Наблюдения для каждого пилота были разбиты на три участка, условно обозначенные:\n",
    "\n",
    "b - первая треть наблюдения по времени,\n",
    "p - вторая треть наблюдения,\n",
    "e - финальная треть наблюдения, включенного в X_train.\n",
    "\n",
    "На полученных данных построим боксплоты датчиков в разрезе жестов. Рассмотрим показания 2-го и 3-го датчиков первого пилота.\n",
    "Мы видим, что для каждого жеста есть характерные уровни показаний датчиков. Для некоторых жестов интервалы характерных значений \n",
    "хорошо дифференцируются, для остальных - интервалы частично перекрываются.\n",
    "\n",
    "![boxplot1](./boxplots/boxplots_pylot1_sens_2_3.png \"Рис.6 - показания датчиков №2,3 первого пилота\")\n",
    "#### <center>Рис.6 - показания датчиков №2,3 первого пилота"
   ]
  },
  {
   "cell_type": "markdown",
   "metadata": {},
   "source": [
    "Обратим внимание на еще одну особенность - постепенное \"сползание\" характерных уровней датчиков по времени. Т.е., к примеру,\n",
    "интервал показаний датчика в положении \"open\" в первой трети наблюдения (красные бары) заметно отличается от интервала показаний того\n",
    "же датчика в последней трети наблюдения (фиолетовые бары). Для выявления особенностей проведения наблюдений, которые приводят к \n",
    "такому эффекту, (это могут быть нагревание кожи, смещение датчиков или другие) необходимы дополнительные данные.\n",
    "\n",
    "Так же можно обратить внимание, что так называемые датчики \"засветки\", ведут себя по разному:\n",
    "\n",
    "показания датчика 46 чувствительны к выполняемому жесту и существенно \"плывут\" со временем,\n",
    "\n",
    "датчик 47 практически нечувствителен к жестам, но со временем есть небольшое \"сползание\" уровня сигнала,\n",
    "\n",
    "а датчик 48 реагирует на жесты \"граб\" и \"ок\", но его показания практически не меняются со временем.\n",
    "\n",
    "<figure><img src=\"./boxplots/boxplots_pylot1_sens_46_48.png\"></figure>\n",
    "\n",
    "#### <center>Рис.7 - показания датчиков №47,48 первого пилота"
   ]
  },
  {
   "cell_type": "markdown",
   "metadata": {},
   "source": [
    "В папке boxplots для ознакомления выложены боксплоты по всем датчикам для трех пилотов.\n",
    "\n",
    "# Промежуточные выводы\n",
    "\n",
    "В результате анализа данных выявлена сложность определения временного периода, в котором происходит изменение класса жеста. Поэтому применим нейронные сети для определения начала жеста. "
   ]
  }
 ],
 "metadata": {
  "kernelspec": {
   "display_name": "Python 3.10.7 64-bit",
   "language": "python",
   "name": "python3"
  },
  "language_info": {
   "codemirror_mode": {
    "name": "ipython",
    "version": 3
   },
   "file_extension": ".py",
   "mimetype": "text/x-python",
   "name": "python",
   "nbconvert_exporter": "python",
   "pygments_lexer": "ipython3",
   "version": "3.10.7"
  },
  "orig_nbformat": 4,
  "vscode": {
   "interpreter": {
    "hash": "26de051ba29f2982a8de78e945f0abaf191376122a1563185a90213a26c5da77"
   }
  }
 },
 "nbformat": 4,
 "nbformat_minor": 2
}
